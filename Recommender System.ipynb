{
  "cells": [
    {
      "attachments": {},
      "cell_type": "markdown",
      "metadata": {
        "id": "BW7ovCNRQtnL"
      },
      "source": [
        "## libraries --- all necessary libraries are being imported"
      ]
    },
    {
      "cell_type": "code",
      "execution_count": 1,
      "metadata": {
        "colab": {
          "base_uri": "https://localhost:8080/"
        },
        "id": "MuHWhmPZQ3ln",
        "outputId": "d6509170-9212-4eb0-c0ff-41ca9b378d40"
      },
      "outputs": [
        {
          "name": "stdout",
          "output_type": "stream",
          "text": [
            "Drive already mounted at /content/drive; to attempt to forcibly remount, call drive.mount(\"/content/drive\", force_remount=True).\n"
          ]
        }
      ],
      "source": [
        "from google.colab import drive\n",
        "drive.mount('/content/drive')\n"
      ]
    },
    {
      "cell_type": "code",
      "execution_count": 18,
      "metadata": {
        "id": "eBkuQs_gQtnO"
      },
      "outputs": [],
      "source": [
        "import numpy as np\n",
        "import pandas as pd\n",
        "import torch\n",
        "import torch.nn as nn\n",
        "import torch.optim as optim\n",
        "from torch.optim.lr_scheduler import LambdaLR\n",
        "from torch.utils.data import TensorDataset, DataLoader, random_split\n",
        "from tqdm import tqdm\n",
        "from sklearn.ensemble import RandomForestClassifier\n",
        "from sklearn.metrics import accuracy_score\n",
        "from sklearn.model_selection import train_test_split"
      ]
    },
    {
      "attachments": {},
      "cell_type": "markdown",
      "metadata": {
        "id": "5snqzdemQtnR"
      },
      "source": [
        "## dataset --- loading the ratings.csv dataset"
      ]
    },
    {
      "cell_type": "code",
      "execution_count": 2,
      "metadata": {
        "id": "CDN_UYJWQtnS"
      },
      "outputs": [],
      "source": [
        "ratings = pd.read_csv('../csv/ratings.csv')"
      ]
    },
    {
      "cell_type": "code",
      "execution_count": 3,
      "metadata": {
        "colab": {
          "base_uri": "https://localhost:8080/"
        },
        "id": "HmHBgkavQtnT",
        "outputId": "6c243375-22d8-476f-f464-bb22510ff0b9"
      },
      "outputs": [
        {
          "data": {
            "text/plain": [
              "53424"
            ]
          },
          "execution_count": 3,
          "metadata": {},
          "output_type": "execute_result"
        }
      ],
      "source": [
        "n_users = ratings.user_id.nunique()\n",
        "n_users"
      ]
    },
    {
      "cell_type": "code",
      "execution_count": 4,
      "metadata": {
        "colab": {
          "base_uri": "https://localhost:8080/"
        },
        "id": "3XcwOFrqQtnV",
        "outputId": "8631485c-6c8f-48b9-a504-8e835ed369c4"
      },
      "outputs": [
        {
          "data": {
            "text/plain": [
              "10000"
            ]
          },
          "execution_count": 4,
          "metadata": {},
          "output_type": "execute_result"
        }
      ],
      "source": [
        "ratings.book_id.nunique()"
      ]
    },
    {
      "cell_type": "code",
      "execution_count": 5,
      "metadata": {
        "colab": {
          "base_uri": "https://localhost:8080/"
        },
        "id": "pgplkV-nQtnV",
        "outputId": "48a530ac-4fe1-4167-da76-8f2ed4e49e87"
      },
      "outputs": [
        {
          "data": {
            "text/plain": [
              "4    2139018\n",
              "5    1983093\n",
              "3    1370916\n",
              "2     359257\n",
              "1     124195\n",
              "Name: rating, dtype: int64"
            ]
          },
          "execution_count": 5,
          "metadata": {},
          "output_type": "execute_result"
        }
      ],
      "source": [
        "ratings.rating.value_counts()"
      ]
    },
    {
      "attachments": {},
      "cell_type": "markdown",
      "metadata": {
        "id": "wmOX-jb-QtnW"
      },
      "source": [
        "## dataset --- [book, user] IDs are converted to indices"
      ]
    },
    {
      "cell_type": "code",
      "execution_count": 6,
      "metadata": {
        "id": "YoJoP0SFQtnX"
      },
      "outputs": [],
      "source": [
        "ratings.user_id -= 1\n",
        "ratings.book_id -= 1"
      ]
    },
    {
      "cell_type": "code",
      "execution_count": 7,
      "metadata": {
        "colab": {
          "base_uri": "https://localhost:8080/"
        },
        "id": "80SuP8vIQtnX",
        "outputId": "651d1969-3830-4cd9-8b76-3a72d5db0902"
      },
      "outputs": [
        {
          "data": {
            "text/plain": [
              "53423"
            ]
          },
          "execution_count": 7,
          "metadata": {},
          "output_type": "execute_result"
        }
      ],
      "source": [
        "max(ratings.user_id)"
      ]
    },
    {
      "cell_type": "code",
      "execution_count": 8,
      "metadata": {
        "colab": {
          "base_uri": "https://localhost:8080/"
        },
        "id": "8jTh66CVQtnY",
        "outputId": "f01f6e78-21c7-40ce-d274-06f109365efd"
      },
      "outputs": [
        {
          "data": {
            "text/plain": [
              "9999"
            ]
          },
          "execution_count": 8,
          "metadata": {},
          "output_type": "execute_result"
        }
      ],
      "source": [
        "max(ratings.book_id)"
      ]
    },
    {
      "attachments": {},
      "cell_type": "markdown",
      "metadata": {
        "id": "PZmUQA5GQtnZ"
      },
      "source": [
        "## dataset --- threashold is being defined\n",
        "    >= 3 ---> positive interaction\n",
        "    < 3  ---> negative interaction"
      ]
    },
    {
      "cell_type": "code",
      "execution_count": 9,
      "metadata": {
        "id": "LoG5ugzOQtnZ"
      },
      "outputs": [],
      "source": [
        "ratings.rating[ratings.rating < 3] = 0\n",
        "ratings.rating[ratings.rating >= 3] = 1"
      ]
    },
    {
      "cell_type": "code",
      "execution_count": 10,
      "metadata": {
        "colab": {
          "base_uri": "https://localhost:8080/"
        },
        "id": "i8KQD6NxQtna",
        "outputId": "f8a3f5ab-f2cb-450b-f415-a3e5b987ea93"
      },
      "outputs": [
        {
          "data": {
            "text/plain": [
              "0          1\n",
              "1          1\n",
              "2          1\n",
              "3          1\n",
              "4          1\n",
              "          ..\n",
              "5976474    1\n",
              "5976475    1\n",
              "5976476    1\n",
              "5976477    1\n",
              "5976478    1\n",
              "Name: rating, Length: 5976479, dtype: int64"
            ]
          },
          "execution_count": 10,
          "metadata": {},
          "output_type": "execute_result"
        }
      ],
      "source": [
        "ratings.rating"
      ]
    },
    {
      "attachments": {},
      "cell_type": "markdown",
      "metadata": {
        "id": "LTkUhTjsQtnb"
      },
      "source": [
        "## dataset --- books & its features are being loaded\n",
        "\n",
        "    trained autoencoder is being used for dimensionality reduction"
      ]
    },
    {
      "cell_type": "code",
      "execution_count": 12,
      "metadata": {
        "id": "QAFDn12oQtnb"
      },
      "outputs": [],
      "source": [
        "books = np.load('/content/drive/MyDrive/Project/numpy/item_sparse.npy')\n",
        "books = torch.from_numpy(books).float()"
      ]
    },
    {
      "cell_type": "code",
      "execution_count": 13,
      "metadata": {
        "colab": {
          "base_uri": "https://localhost:8080/"
        },
        "id": "z6sQLRkVQtnb",
        "outputId": "4d518cb0-60bf-4553-a5eb-3b2cb85c480e"
      },
      "outputs": [
        {
          "data": {
            "text/plain": [
              "torch.Size([10000, 34264])"
            ]
          },
          "execution_count": 13,
          "metadata": {},
          "output_type": "execute_result"
        }
      ],
      "source": [
        "books.size()"
      ]
    },
    {
      "attachments": {},
      "cell_type": "markdown",
      "metadata": {
        "id": "gD3pXxudQtnc"
      },
      "source": [
        "### Model --- Autoencoder"
      ]
    },
    {
      "cell_type": "code",
      "execution_count": 14,
      "metadata": {
        "id": "wK3vTjMaQtnc"
      },
      "outputs": [],
      "source": [
        "class Autoencoder(nn.Module):\n",
        "    def __init__(self, input_dimension, hidden_dimension):\n",
        "        super(Autoencoder, self).__init__()\n",
        "\n",
        "        self.encoder = nn.Sequential(\n",
        "            # nn.Linear(input_dimension, input_dimension),\n",
        "            # nn.ReLU(),\n",
        "            nn.Linear(input_dimension, hidden_dimension),\n",
        "            nn.ReLU()\n",
        "        )\n",
        "\n",
        "        self.decoder = nn.Sequential(\n",
        "            nn.Linear(hidden_dimension, input_dimension),\n",
        "            nn.ReLU()\n",
        "        )\n",
        "\n",
        "    def forward(self, x):\n",
        "        encoded = self.encoder(x)\n",
        "        decoded = self.decoder(encoded)\n",
        "        return decoded"
      ]
    },
    {
      "cell_type": "code",
      "execution_count": 15,
      "metadata": {
        "id": "suDMW67uQtnd"
      },
      "outputs": [],
      "source": [
        "# hidden_size // input_size ---> autoencoder model\n",
        "input_size = books.size()[-1]\n",
        "hidden_size = 128"
      ]
    },
    {
      "cell_type": "code",
      "execution_count": 16,
      "metadata": {
        "id": "A_ISJcp3Qtne"
      },
      "outputs": [],
      "source": [
        "autoencoder = Autoencoder(input_size, hidden_size)\n",
        "autoencoder.load_state_dict(torch.load('/content/drive/MyDrive/Project/model/autoencoder.pth'))\n",
        "autoencoder.eval()\n",
        "\n",
        "books = autoencoder.encoder(books.float())\n",
        "books = books"
      ]
    },
    {
      "attachments": {},
      "cell_type": "markdown",
      "metadata": {
        "id": "gTnr1jssQtnf"
      },
      "source": [
        "## ratings --- accessing book_ids"
      ]
    },
    {
      "cell_type": "code",
      "execution_count": 17,
      "metadata": {
        "colab": {
          "base_uri": "https://localhost:8080/"
        },
        "id": "Z5iLh1v8Qtnf",
        "outputId": "17dde256-445d-46ce-dc98-91d710f29781"
      },
      "outputs": [
        {
          "data": {
            "text/plain": [
              "array([[   0,  257,    1],\n",
              "       [   1, 4080,    1],\n",
              "       [   1,  259,    1],\n",
              "       [   1, 9295,    1],\n",
              "       [   1, 2317,    1]])"
            ]
          },
          "execution_count": 17,
          "metadata": {},
          "output_type": "execute_result"
        }
      ],
      "source": [
        "ratings[: 5].values"
      ]
    },
    {
      "attachments": {},
      "cell_type": "markdown",
      "metadata": {
        "id": "IS8ZEVvPQtnh"
      },
      "source": [
        "## books --- extracting those particular books"
      ]
    },
    {
      "cell_type": "code",
      "execution_count": 18,
      "metadata": {
        "colab": {
          "base_uri": "https://localhost:8080/"
        },
        "id": "86t_ZjPTQtni",
        "outputId": "f5c5b061-5f8e-4f23-e2b0-b3f5df5a50e4"
      },
      "outputs": [
        {
          "data": {
            "text/plain": [
              "tensor([[   0.0000,    0.0000,    0.0000,    0.0000,    0.0000,    0.0000,\n",
              "            0.0000,    0.0000,  225.6808,   69.5684,    0.0000,    0.0000,\n",
              "            0.0000,    0.0000,    0.0000,    0.0000,    0.0000,    0.0000,\n",
              "            0.0000,    0.0000,    0.0000,    0.0000,    0.0000,    0.0000,\n",
              "            0.0000,    0.0000,    0.0000,    0.0000,    0.0000,    0.0000,\n",
              "            0.0000,    0.0000,    0.0000,    0.0000,    0.0000,    0.0000,\n",
              "            0.0000,    0.0000,    0.0000,    0.0000,    0.0000,    0.0000,\n",
              "            0.0000,    0.0000,  219.3959,  122.7329,    0.0000,    0.0000,\n",
              "            0.0000,    0.0000,    0.0000,    0.0000,    0.0000,    0.0000,\n",
              "            0.0000,   77.9636,    0.0000,    0.0000,    0.0000,    0.0000,\n",
              "            0.0000,    0.0000,    0.0000,    0.0000,    0.0000,    0.0000,\n",
              "            0.0000,    0.0000,    0.0000,    0.0000,    0.0000,    0.0000,\n",
              "            0.0000,    0.0000,    0.0000,    0.0000,    0.0000,    0.0000,\n",
              "            0.0000,   73.0687,    0.0000,    0.0000,    0.0000,    0.0000,\n",
              "            0.0000,    0.0000,    0.0000,    0.0000,    0.0000,    0.0000,\n",
              "            0.0000,    0.0000,    0.0000,    0.0000,    0.0000,    0.0000,\n",
              "            0.0000,    0.0000,    0.0000,    0.0000,    0.0000,    0.0000,\n",
              "            0.0000,    0.0000,    0.0000,    0.0000,    0.0000,  586.5216,\n",
              "            0.0000,    0.0000,    0.0000,    0.0000,    0.0000,    0.0000,\n",
              "            0.0000,    0.0000,    0.0000,  116.6516,    0.0000,    0.0000,\n",
              "            0.0000,    0.0000,    0.0000,   75.5242,    0.0000,    0.0000,\n",
              "            0.0000,    0.0000],\n",
              "        [   0.0000,    0.0000,    0.0000,    0.0000,    0.0000,    0.0000,\n",
              "            0.0000,    0.0000, 2038.2217, 1115.2120,    0.0000,    0.0000,\n",
              "            0.0000,    0.0000,    0.0000,    0.0000,    0.0000,    0.0000,\n",
              "            0.0000,    0.0000,    0.0000,    0.0000,    0.0000,    0.0000,\n",
              "            0.0000,    0.0000,    0.0000,    0.0000,    0.0000,    0.0000,\n",
              "            0.0000,    0.0000,    0.0000,    0.0000,    0.0000,    0.0000,\n",
              "            0.0000,    0.0000,    0.0000,    0.0000,    0.0000,    0.0000,\n",
              "            0.0000,    0.0000, 2092.6672, 1916.5175,    0.0000,    0.0000,\n",
              "            0.0000,    0.0000,    0.0000,    0.0000,    0.0000,    0.0000,\n",
              "            0.0000, 1246.0458,    0.0000,    0.0000,    0.0000,    0.0000,\n",
              "            0.0000,    0.0000,    0.0000,    0.0000,    0.0000,    0.0000,\n",
              "            0.0000,    0.0000,    0.0000,    0.0000,    0.0000,    0.0000,\n",
              "            0.0000,    0.0000,    0.0000,    0.0000,    0.0000,    0.0000,\n",
              "            0.0000, 1171.4889,    0.0000,    0.0000,    0.0000,    0.0000,\n",
              "            0.0000,    0.0000,    0.0000,    0.0000,    0.0000,    0.0000,\n",
              "            0.0000,    0.0000,    0.0000,    0.0000,    0.0000,    0.0000,\n",
              "            0.0000,    0.0000,    0.0000,    0.0000,    0.0000,    0.0000,\n",
              "            0.0000,    0.0000,    0.0000,    0.0000,    0.0000, 4221.6206,\n",
              "            0.0000,    0.0000,    0.0000,    0.0000,    0.0000,    0.0000,\n",
              "            0.0000,    0.0000,    0.0000, 1836.6917,    0.0000,    0.0000,\n",
              "            0.0000,    0.0000,    0.0000, 1209.5250,    0.0000,    0.0000,\n",
              "            0.0000,    0.0000],\n",
              "        [   0.0000,    0.0000,    0.0000,    0.0000,    0.0000,    0.0000,\n",
              "            0.0000,    0.0000,  293.2931,   68.3805,    0.0000,    0.0000,\n",
              "            0.0000,    0.0000,    0.0000,    0.0000,    0.0000,    0.0000,\n",
              "            0.0000,    0.0000,    0.0000,    0.0000,    0.0000,    0.0000,\n",
              "            0.0000,    0.0000,    0.0000,    0.0000,    0.0000,    0.0000,\n",
              "            0.0000,    0.0000,    0.0000,    0.0000,    0.0000,    0.0000,\n",
              "            0.0000,    0.0000,    0.0000,    0.0000,    0.0000,    0.0000,\n",
              "            0.0000,    0.0000,  279.9570,  125.7180,    0.0000,    0.0000,\n",
              "            0.0000,    0.0000,    0.0000,    0.0000,    0.0000,    0.0000,\n",
              "            0.0000,   77.7830,    0.0000,    0.0000,    0.0000,    0.0000,\n",
              "            0.0000,    0.0000,    0.0000,    0.0000,    0.0000,    0.0000,\n",
              "            0.0000,    0.0000,    0.0000,    0.0000,    0.0000,    0.0000,\n",
              "            0.0000,    0.0000,    0.0000,    0.0000,    0.0000,    0.0000,\n",
              "            0.0000,   72.3680,    0.0000,    0.0000,    0.0000,    0.0000,\n",
              "            0.0000,    0.0000,    0.0000,    0.0000,    0.0000,    0.0000,\n",
              "            0.0000,    0.0000,    0.0000,    0.0000,    0.0000,    0.0000,\n",
              "            0.0000,    0.0000,    0.0000,    0.0000,    0.0000,    0.0000,\n",
              "            0.0000,    0.0000,    0.0000,    0.0000,    0.0000,  812.4244,\n",
              "            0.0000,    0.0000,    0.0000,    0.0000,    0.0000,    0.0000,\n",
              "            0.0000,    0.0000,    0.0000,  118.7397,    0.0000,    0.0000,\n",
              "            0.0000,    0.0000,    0.0000,   75.0563,    0.0000,    0.0000,\n",
              "            0.0000,    0.0000],\n",
              "        [   0.0000,    0.0000,    0.0000,    0.0000,    0.0000,    0.0000,\n",
              "            0.0000,    0.0000, 1989.7324, 2508.5684,    0.0000,    0.0000,\n",
              "            0.0000,    0.0000,    0.0000,    0.0000,    0.0000,    0.0000,\n",
              "            0.0000,    0.0000,    0.0000,    0.0000,    0.0000,    0.0000,\n",
              "            0.0000,    0.0000,    0.0000,    0.0000,    0.0000,    0.0000,\n",
              "            0.0000,    0.0000,    0.0000,    0.0000,    0.0000,    0.0000,\n",
              "            0.0000,    0.0000,    0.0000,    0.0000,    0.0000,    0.0000,\n",
              "            0.0000,    0.0000, 2354.6121, 4405.8413,    0.0000,    0.0000,\n",
              "            0.0000,    0.0000,    0.0000,    0.0000,    0.0000,    0.0000,\n",
              "            0.0000, 2841.4758,    0.0000,    0.0000,    0.0000,    0.0000,\n",
              "            0.0000,    0.0000,    0.0000,    0.0000,    0.0000,    0.0000,\n",
              "            0.0000,    0.0000,    0.0000,    0.0000,    0.0000,    0.0000,\n",
              "            0.0000,    0.0000,    0.0000,    0.0000,    0.0000,    0.0000,\n",
              "            0.0000, 2667.5444,    0.0000,    0.0000,    0.0000,    0.0000,\n",
              "            0.0000,    0.0000,    0.0000,    0.0000,    0.0000,    0.0000,\n",
              "            0.0000,    0.0000,    0.0000,    0.0000,    0.0000,    0.0000,\n",
              "            0.0000,    0.0000,    0.0000,    0.0000,    0.0000,    0.0000,\n",
              "            0.0000,    0.0000,    0.0000,    0.0000,    0.0000, 1029.5646,\n",
              "            0.0000,    0.0000,    0.0000,    0.0000,    0.0000,    0.0000,\n",
              "            0.0000,    0.0000,    0.0000, 4251.3755,    0.0000,    0.0000,\n",
              "            0.0000,    0.0000,    0.0000, 2756.2666,    0.0000,    0.0000,\n",
              "            0.0000,    0.0000],\n",
              "        [   0.0000,    0.0000,    0.0000,    0.0000,    0.0000,    0.0000,\n",
              "            0.0000,    0.0000, 1649.1030,  639.0686,    0.0000,    0.0000,\n",
              "            0.0000,    0.0000,    0.0000,    0.0000,    0.0000,    0.0000,\n",
              "            0.0000,    0.0000,    0.0000,    0.0000,    0.0000,    0.0000,\n",
              "            0.0000,    0.0000,    0.0000,    0.0000,    0.0000,    0.0000,\n",
              "            0.0000,    0.0000,    0.0000,    0.0000,    0.0000,    0.0000,\n",
              "            0.0000,    0.0000,    0.0000,    0.0000,    0.0000,    0.0000,\n",
              "            0.0000,    0.0000, 1635.1857, 1081.3540,    0.0000,    0.0000,\n",
              "            0.0000,    0.0000,    0.0000,    0.0000,    0.0000,    0.0000,\n",
              "            0.0000,  706.8808,    0.0000,    0.0000,    0.0000,    0.0000,\n",
              "            0.0000,    0.0000,    0.0000,    0.0000,    0.0000,    0.0000,\n",
              "            0.0000,    0.0000,    0.0000,    0.0000,    0.0000,    0.0000,\n",
              "            0.0000,    0.0000,    0.0000,    0.0000,    0.0000,    0.0000,\n",
              "            0.0000,  665.3555,    0.0000,    0.0000,    0.0000,    0.0000,\n",
              "            0.0000,    0.0000,    0.0000,    0.0000,    0.0000,    0.0000,\n",
              "            0.0000,    0.0000,    0.0000,    0.0000,    0.0000,    0.0000,\n",
              "            0.0000,    0.0000,    0.0000,    0.0000,    0.0000,    0.0000,\n",
              "            0.0000,    0.0000,    0.0000,    0.0000,    0.0000, 3989.5439,\n",
              "            0.0000,    0.0000,    0.0000,    0.0000,    0.0000,    0.0000,\n",
              "            0.0000,    0.0000,    0.0000, 1031.0092,    0.0000,    0.0000,\n",
              "            0.0000,    0.0000,    0.0000,  686.5381,    0.0000,    0.0000,\n",
              "            0.0000,    0.0000]], grad_fn=<IndexBackward0>)"
            ]
          },
          "execution_count": 18,
          "metadata": {},
          "output_type": "execute_result"
        }
      ],
      "source": [
        "books[ratings[: 5].values[:, 1]]"
      ]
    },
    {
      "attachments": {},
      "cell_type": "markdown",
      "metadata": {
        "id": "AcvNhrrCQtnj"
      },
      "source": [
        "## dataset --- class is being defined for loading, getting items"
      ]
    },
    {
      "cell_type": "code",
      "execution_count": 11,
      "metadata": {
        "id": "Jz5Javb4Qtnj"
      },
      "outputs": [],
      "source": [
        "X = torch.tensor(ratings[['user_id', 'book_id']].values, dtype=torch.float)\n",
        "y = torch.tensor(ratings[['rating']].values, dtype=torch.float)"
      ]
    },
    {
      "cell_type": "code",
      "execution_count": 12,
      "metadata": {
        "id": "XzaJc6PqQtnk"
      },
      "outputs": [],
      "source": [
        "torch.manual_seed(7)\n",
        "dataset = TensorDataset(X, y)"
      ]
    },
    {
      "cell_type": "code",
      "execution_count": 14,
      "metadata": {
        "colab": {
          "base_uri": "https://localhost:8080/"
        },
        "id": "LEkTzvviQtnk",
        "outputId": "10685bb5-1c07-4ff6-dbef-d885f45ddb20"
      },
      "outputs": [
        {
          "data": {
            "text/plain": [
              "(4781183, 1195296)"
            ]
          },
          "execution_count": 14,
          "metadata": {},
          "output_type": "execute_result"
        }
      ],
      "source": [
        "train_ratio = 0.8\n",
        "test_ratio = 1 - train_ratio\n",
        "\n",
        "train_size = int(train_ratio * len(dataset))\n",
        "test_size = len(dataset) - train_size\n",
        "\n",
        "train_size, test_size"
      ]
    },
    {
      "cell_type": "code",
      "execution_count": 15,
      "metadata": {
        "id": "JRgPopJ4Qtnl"
      },
      "outputs": [],
      "source": [
        "train_dataset, test_dataset = random_split(dataset, [train_size, test_size])"
      ]
    },
    {
      "cell_type": "code",
      "execution_count": 16,
      "metadata": {
        "id": "FR8SWe1qQtnl"
      },
      "outputs": [],
      "source": [
        "train_loader = DataLoader(train_dataset, batch_size=512, shuffle=True)\n",
        "test_loader = DataLoader(test_dataset, batch_size=512, shuffle=False)"
      ]
    },
    {
      "cell_type": "code",
      "execution_count": 13,
      "metadata": {
        "id": "4BJoQ32NQtnm"
      },
      "outputs": [],
      "source": [
        "class Recommender(nn.Module):\n",
        "    def __init__(self, n_users, books_n_features, hidden_size):\n",
        "        super(Recommender, self).__init__()\n",
        "        self.user_embed = nn.Embedding(n_users, hidden_size)\n",
        "        self.book_embed = nn.Embedding(10000, hidden_size)\n",
        "        \n",
        "        self.dense = nn.Sequential(\n",
        "            nn.Linear(hidden_size * 2, hidden_size),\n",
        "            nn.ReLU(),\n",
        "            nn.Linear(hidden_size, 8),\n",
        "            nn.ReLU(),\n",
        "            nn.Linear(8, 1),\n",
        "            nn.Sigmoid()\n",
        "        )\n",
        "        \n",
        "    def forward(self, user_ids, book_ids):\n",
        "        users = self.user_embed(user_ids)\n",
        "        books = self.book_embed(book_ids)\n",
        "\n",
        "        target = torch.cat([users, books], dim=1)\n",
        "        target = self.dense(target)\n",
        "        \n",
        "        return target"
      ]
    },
    {
      "cell_type": "code",
      "execution_count": 14,
      "metadata": {
        "id": "llwrmLE6Qtnm"
      },
      "outputs": [],
      "source": [
        "\n",
        "hidden_size = 16"
      ]
    },
    {
      "cell_type": "code",
      "execution_count": 26,
      "metadata": {
        "colab": {
          "base_uri": "https://localhost:8080/"
        },
        "id": "qFI2eY7UQtnn",
        "outputId": "76be89c4-3270-4e7d-c9b5-8e1d1e8f4999"
      },
      "outputs": [
        {
          "data": {
            "text/plain": [
              "Recommender(\n",
              "  (user_embed): Embedding(53424, 16)\n",
              "  (book_embed): Embedding(10000, 16)\n",
              "  (dense): Sequential(\n",
              "    (0): Linear(in_features=32, out_features=16, bias=True)\n",
              "    (1): ReLU()\n",
              "    (2): Linear(in_features=16, out_features=8, bias=True)\n",
              "    (3): ReLU()\n",
              "    (4): Linear(in_features=8, out_features=1, bias=True)\n",
              "    (5): Sigmoid()\n",
              "  )\n",
              ")"
            ]
          },
          "execution_count": 26,
          "metadata": {},
          "output_type": "execute_result"
        }
      ],
      "source": [
        "recommender = Recommender(n_users=n_users, books_n_features=128, hidden_size=hidden_size).cuda()\n",
        "recommender"
      ]
    },
    {
      "cell_type": "code",
      "execution_count": 27,
      "metadata": {
        "colab": {
          "base_uri": "https://localhost:8080/"
        },
        "id": "UixVNzKTQtno",
        "outputId": "bd6098e9-3821-4aed-b3d3-061110439354"
      },
      "outputs": [
        {
          "data": {
            "text/plain": [
              "AdamW (\n",
              "Parameter Group 0\n",
              "    amsgrad: False\n",
              "    betas: (0.9, 0.999)\n",
              "    capturable: False\n",
              "    differentiable: False\n",
              "    eps: 1e-08\n",
              "    foreach: None\n",
              "    fused: None\n",
              "    initial_lr: 0.0025\n",
              "    lr: 0.0025\n",
              "    maximize: False\n",
              "    weight_decay: 0.0001\n",
              ")"
            ]
          },
          "execution_count": 27,
          "metadata": {},
          "output_type": "execute_result"
        }
      ],
      "source": [
        "optimizer = optim.AdamW(recommender.parameters(), lr=0.0025, weight_decay=0.0001)\n",
        "scheduler = LambdaLR(optimizer, lr_lambda=lambda epoch: 0.95 ** epoch)\n",
        "optimizer"
      ]
    },
    {
      "cell_type": "code",
      "execution_count": 28,
      "metadata": {
        "colab": {
          "base_uri": "https://localhost:8080/"
        },
        "id": "awm1y3xHQtno",
        "outputId": "c4c6ed73-c50d-497a-ea9d-625fac4d7b52"
      },
      "outputs": [
        {
          "data": {
            "text/plain": [
              "MSELoss()"
            ]
          },
          "execution_count": 28,
          "metadata": {},
          "output_type": "execute_result"
        }
      ],
      "source": [
        "criterion = nn.MSELoss()\n",
        "criterion"
      ]
    },
    {
      "cell_type": "code",
      "execution_count": 29,
      "metadata": {
        "id": "6klC9h5xQtno"
      },
      "outputs": [],
      "source": [
        "epochs = 1\n",
        "device = 'cuda'"
      ]
    },
    {
      "cell_type": "code",
      "execution_count": 30,
      "metadata": {
        "id": "rhnBK2XxSNMQ"
      },
      "outputs": [],
      "source": [
        "# books = books.detach()\n",
        "# books = books.to(device)"
      ]
    },
    {
      "cell_type": "code",
      "execution_count": 31,
      "metadata": {
        "colab": {
          "base_uri": "https://localhost:8080/",
          "height": 675
        },
        "id": "Ek6pSSogOH4Z",
        "outputId": "820cd006-b56e-4991-c6bd-ebb4f7194516"
      },
      "outputs": [
        {
          "name": "stderr",
          "output_type": "stream",
          "text": [
            "Epoch 1/100: 100%|██████████| 9339/9339 [01:30<00:00, 102.75it/s, Train Loss=5.99]\n"
          ]
        },
        {
          "name": "stdout",
          "output_type": "stream",
          "text": [
            "Epoch 1/100, Train Loss: 5.9937, Test Loss: 5.8296\n"
          ]
        },
        {
          "name": "stderr",
          "output_type": "stream",
          "text": [
            "Epoch 2/100: 100%|██████████| 9339/9339 [01:24<00:00, 110.68it/s, Train Loss=5.76]\n"
          ]
        },
        {
          "name": "stdout",
          "output_type": "stream",
          "text": [
            "Epoch 2/100, Train Loss: 5.7565, Test Loss: 5.8071\n"
          ]
        },
        {
          "name": "stderr",
          "output_type": "stream",
          "text": [
            "Epoch 3/100: 100%|██████████| 9339/9339 [01:23<00:00, 111.66it/s, Train Loss=5.72]\n"
          ]
        },
        {
          "name": "stdout",
          "output_type": "stream",
          "text": [
            "Epoch 3/100, Train Loss: 5.7224, Test Loss: 5.7999\n"
          ]
        },
        {
          "name": "stderr",
          "output_type": "stream",
          "text": [
            "Epoch 4/100: 100%|██████████| 9339/9339 [01:31<00:00, 102.17it/s, Train Loss=5.7]\n"
          ]
        },
        {
          "name": "stdout",
          "output_type": "stream",
          "text": [
            "Epoch 4/100, Train Loss: 5.6994, Test Loss: 5.8004\n"
          ]
        },
        {
          "name": "stderr",
          "output_type": "stream",
          "text": [
            "Epoch 5/100: 100%|██████████| 9339/9339 [01:28<00:00, 105.83it/s, Train Loss=5.68]\n"
          ]
        },
        {
          "name": "stdout",
          "output_type": "stream",
          "text": [
            "Epoch 5/100, Train Loss: 5.6774, Test Loss: 5.8046\n"
          ]
        },
        {
          "name": "stderr",
          "output_type": "stream",
          "text": [
            "Epoch 6/100: 100%|██████████| 9339/9339 [01:24<00:00, 110.56it/s, Train Loss=5.65]\n"
          ]
        },
        {
          "name": "stdout",
          "output_type": "stream",
          "text": [
            "Epoch 6/100, Train Loss: 5.6526, Test Loss: 5.8039\n"
          ]
        },
        {
          "name": "stderr",
          "output_type": "stream",
          "text": [
            "Epoch 7/100: 100%|██████████| 9339/9339 [01:23<00:00, 111.79it/s, Train Loss=5.62]\n"
          ]
        },
        {
          "name": "stdout",
          "output_type": "stream",
          "text": [
            "Epoch 7/100, Train Loss: 5.6231, Test Loss: 5.8118\n"
          ]
        },
        {
          "name": "stderr",
          "output_type": "stream",
          "text": [
            "Epoch 8/100: 100%|██████████| 9339/9339 [01:28<00:00, 104.95it/s, Train Loss=5.59]\n"
          ]
        },
        {
          "name": "stdout",
          "output_type": "stream",
          "text": [
            "Epoch 8/100, Train Loss: 5.5883, Test Loss: 5.8255\n"
          ]
        },
        {
          "name": "stderr",
          "output_type": "stream",
          "text": [
            "Epoch 9/100:  17%|█▋        | 1625/9339 [00:14<01:10, 109.99it/s, Train Loss=2.3]\n"
          ]
        },
        {
          "ename": "KeyboardInterrupt",
          "evalue": "ignored",
          "output_type": "error",
          "traceback": [
            "\u001b[0;31m---------------------------------------------------------------------------\u001b[0m",
            "\u001b[0;31mKeyboardInterrupt\u001b[0m                         Traceback (most recent call last)",
            "\u001b[0;32m<ipython-input-31-94503a056805>\u001b[0m in \u001b[0;36m<cell line: 1>\u001b[0;34m()\u001b[0m\n\u001b[1;32m      9\u001b[0m         \u001b[0moutput\u001b[0m \u001b[0;34m=\u001b[0m \u001b[0mrecommender\u001b[0m\u001b[0;34m(\u001b[0m\u001b[0mx_batch\u001b[0m\u001b[0;34m[\u001b[0m\u001b[0;34m:\u001b[0m\u001b[0;34m,\u001b[0m \u001b[0;36m0\u001b[0m\u001b[0;34m]\u001b[0m\u001b[0;34m.\u001b[0m\u001b[0mlong\u001b[0m\u001b[0;34m(\u001b[0m\u001b[0;34m)\u001b[0m\u001b[0;34m,\u001b[0m \u001b[0mx_batch\u001b[0m\u001b[0;34m[\u001b[0m\u001b[0;34m:\u001b[0m\u001b[0;34m,\u001b[0m \u001b[0;36m1\u001b[0m\u001b[0;34m]\u001b[0m\u001b[0;34m.\u001b[0m\u001b[0mlong\u001b[0m\u001b[0;34m(\u001b[0m\u001b[0;34m)\u001b[0m\u001b[0;34m)\u001b[0m\u001b[0;34m\u001b[0m\u001b[0;34m\u001b[0m\u001b[0m\n\u001b[1;32m     10\u001b[0m         \u001b[0mloss\u001b[0m \u001b[0;34m=\u001b[0m \u001b[0mcriterion\u001b[0m\u001b[0;34m(\u001b[0m\u001b[0moutput\u001b[0m\u001b[0;34m,\u001b[0m \u001b[0my_batch\u001b[0m\u001b[0;34m)\u001b[0m\u001b[0;34m\u001b[0m\u001b[0;34m\u001b[0m\u001b[0m\n\u001b[0;32m---> 11\u001b[0;31m         \u001b[0mloss\u001b[0m\u001b[0;34m.\u001b[0m\u001b[0mbackward\u001b[0m\u001b[0;34m(\u001b[0m\u001b[0;34m)\u001b[0m\u001b[0;34m\u001b[0m\u001b[0;34m\u001b[0m\u001b[0m\n\u001b[0m\u001b[1;32m     12\u001b[0m         \u001b[0moptimizer\u001b[0m\u001b[0;34m.\u001b[0m\u001b[0mstep\u001b[0m\u001b[0;34m(\u001b[0m\u001b[0;34m)\u001b[0m\u001b[0;34m\u001b[0m\u001b[0;34m\u001b[0m\u001b[0m\n\u001b[1;32m     13\u001b[0m \u001b[0;34m\u001b[0m\u001b[0m\n",
            "\u001b[0;32m/usr/local/lib/python3.10/dist-packages/torch/_tensor.py\u001b[0m in \u001b[0;36mbackward\u001b[0;34m(self, gradient, retain_graph, create_graph, inputs)\u001b[0m\n\u001b[1;32m    485\u001b[0m                 \u001b[0minputs\u001b[0m\u001b[0;34m=\u001b[0m\u001b[0minputs\u001b[0m\u001b[0;34m,\u001b[0m\u001b[0;34m\u001b[0m\u001b[0;34m\u001b[0m\u001b[0m\n\u001b[1;32m    486\u001b[0m             )\n\u001b[0;32m--> 487\u001b[0;31m         torch.autograd.backward(\n\u001b[0m\u001b[1;32m    488\u001b[0m             \u001b[0mself\u001b[0m\u001b[0;34m,\u001b[0m \u001b[0mgradient\u001b[0m\u001b[0;34m,\u001b[0m \u001b[0mretain_graph\u001b[0m\u001b[0;34m,\u001b[0m \u001b[0mcreate_graph\u001b[0m\u001b[0;34m,\u001b[0m \u001b[0minputs\u001b[0m\u001b[0;34m=\u001b[0m\u001b[0minputs\u001b[0m\u001b[0;34m\u001b[0m\u001b[0;34m\u001b[0m\u001b[0m\n\u001b[1;32m    489\u001b[0m         )\n",
            "\u001b[0;32m/usr/local/lib/python3.10/dist-packages/torch/autograd/__init__.py\u001b[0m in \u001b[0;36mbackward\u001b[0;34m(tensors, grad_tensors, retain_graph, create_graph, grad_variables, inputs)\u001b[0m\n\u001b[1;32m    198\u001b[0m     \u001b[0;31m# some Python versions print out the first line of a multi-line function\u001b[0m\u001b[0;34m\u001b[0m\u001b[0;34m\u001b[0m\u001b[0m\n\u001b[1;32m    199\u001b[0m     \u001b[0;31m# calls in the traceback and some print out the last line\u001b[0m\u001b[0;34m\u001b[0m\u001b[0;34m\u001b[0m\u001b[0m\n\u001b[0;32m--> 200\u001b[0;31m     Variable._execution_engine.run_backward(  # Calls into the C++ engine to run the backward pass\n\u001b[0m\u001b[1;32m    201\u001b[0m         \u001b[0mtensors\u001b[0m\u001b[0;34m,\u001b[0m \u001b[0mgrad_tensors_\u001b[0m\u001b[0;34m,\u001b[0m \u001b[0mretain_graph\u001b[0m\u001b[0;34m,\u001b[0m \u001b[0mcreate_graph\u001b[0m\u001b[0;34m,\u001b[0m \u001b[0minputs\u001b[0m\u001b[0;34m,\u001b[0m\u001b[0;34m\u001b[0m\u001b[0;34m\u001b[0m\u001b[0m\n\u001b[1;32m    202\u001b[0m         allow_unreachable=True, accumulate_grad=True)  # Calls into the C++ engine to run the backward pass\n",
            "\u001b[0;31mKeyboardInterrupt\u001b[0m: "
          ]
        }
      ],
      "source": [
        "for epoch in range(epochs):\n",
        "    recommender.train()\n",
        "    train_loss = 0\n",
        "\n",
        "    progress_bar = tqdm(train_loader, desc=f\"Epoch {epoch + 1}/{epochs}\")\n",
        "    for x_batch, y_batch in progress_bar:\n",
        "        x_batch, y_batch = x_batch.to(device), y_batch.to(device)\n",
        "        optimizer.zero_grad()\n",
        "        output = recommender(x_batch[:, 0].long(), x_batch[:, 1].long())\n",
        "        loss = criterion(output, y_batch)\n",
        "        loss.backward()\n",
        "        optimizer.step()\n",
        "\n",
        "        train_loss += loss.item() * len(x_batch)\n",
        "        progress_bar.set_postfix({\"Train Loss\": np.sqrt(train_loss / len(train_loader))})\n",
        "    \n",
        "    train_loss /= len(train_loader)\n",
        "    \n",
        "    scheduler.step()\n",
        "    recommender.eval()\n",
        "    with torch.no_grad():\n",
        "        test_loss = 0\n",
        "\n",
        "        for x_batch, y_batch in test_loader:\n",
        "            x_batch, y_batch = x_batch.to(device), y_batch.to(device)\n",
        "            output = recommender(x_batch[:, 0].long(), x_batch[:, 1].long())\n",
        "            loss = criterion(output, y_batch)\n",
        "            test_loss += loss.item() * len(x_batch)\n",
        "\n",
        "        test_loss /= len(test_loader)\n",
        "\n",
        "    print(f\"Epoch {epoch + 1}/{epochs}, Train Loss: {np.sqrt(train_loss):.4f}, Test Loss: {np.sqrt(test_loss):.4f}\")\n"
      ]
    },
    {
      "cell_type": "code",
      "execution_count": 32,
      "metadata": {
        "id": "7mI22hkGGvZ_"
      },
      "outputs": [],
      "source": [
        "#torch.save(recommender.state_dict(), '/content/drive/MyDrive/Project/model/recommender.pth')"
      ]
    },
    {
      "cell_type": "code",
      "execution_count": 15,
      "metadata": {
        "id": "jxzNJ6msj2ZN"
      },
      "outputs": [],
      "source": [
        "recommender = Recommender(n_users, 128, hidden_size)"
      ]
    },
    {
      "cell_type": "code",
      "execution_count": 17,
      "metadata": {
        "colab": {
          "base_uri": "https://localhost:8080/"
        },
        "id": "HOJmiiC0kF7i",
        "outputId": "a27224bd-e78c-4b43-aacc-78399f5af9f5"
      },
      "outputs": [
        {
          "data": {
            "text/plain": [
              "<All keys matched successfully>"
            ]
          },
          "execution_count": 17,
          "metadata": {},
          "output_type": "execute_result"
        }
      ],
      "source": [
        "recommender.load_state_dict(torch.load('../model/recommender.pth', map_location='cpu'))"
      ]
    },
    {
      "cell_type": "code",
      "execution_count": 59,
      "metadata": {
        "colab": {
          "base_uri": "https://localhost:8080/"
        },
        "id": "vmMy_ozbVoZA",
        "outputId": "6a0a18c8-01bb-4319-d6d5-a32e3b53a14c"
      },
      "outputs": [
        {
          "name": "stdout",
          "output_type": "stream",
          "text": [
            "0.8645405856218878\n"
          ]
        }
      ],
      "source": [
        "recommender.eval()\n",
        "accuracyScore = 0\n",
        "for i in range(0, 10000):\n",
        "  user_i = ratings[ratings['user_id']==i].values\n",
        "  output = recommender(torch.tensor(user_i[:,0]).long().to(device), torch.tensor(user_i[:,1]).long().to(device))\n",
        "  output[output < 0.8] = 0 \n",
        "  output[output >= 0.8] = 1\n",
        "  output = output.detach().cpu()\n",
        "  accuracyScore += accuracy_score(output, user_i[:,2])\n",
        "\n",
        "print(accuracyScore/10000)"
      ]
    },
    {
      "cell_type": "code",
      "execution_count": 75,
      "metadata": {
        "colab": {
          "base_uri": "https://localhost:8080/"
        },
        "id": "-UqdWN2rZLBq",
        "outputId": "fb149cba-2ad8-40a6-cf55-7819825aa87b"
      },
      "outputs": [
        {
          "data": {
            "text/plain": [
              "torch.Size([10000, 16])"
            ]
          },
          "execution_count": 75,
          "metadata": {},
          "output_type": "execute_result"
        }
      ],
      "source": [
        "book_embeddings = torch.tensor(range(10000)).long()\n",
        "book_embeddings = recommender.book_embed(book_embeddings)\n",
        "book_embeddings.size()\n"
      ]
    },
    {
      "cell_type": "code",
      "execution_count": 76,
      "metadata": {
        "id": "JurTMtg6aAwq"
      },
      "outputs": [],
      "source": [
        "book_embeddings_df = pd.DataFrame(book_embeddings.detach().cpu())\n",
        "book_embeddings_df['book_id'] = list(range(10000))"
      ]
    },
    {
      "cell_type": "code",
      "execution_count": 77,
      "metadata": {
        "id": "atnMnBCbajOo"
      },
      "outputs": [],
      "source": [
        "ratings_merged = pd.merge(book_embeddings_df, ratings, on = 'book_id', how = 'outer')"
      ]
    },
    {
      "cell_type": "code",
      "execution_count": 78,
      "metadata": {
        "id": "E2xKXa6tbAIB"
      },
      "outputs": [],
      "source": [
        "X2 = ratings_merged.drop('rating', axis = 1).values\n",
        "y2 = ratings_merged['rating'].values"
      ]
    },
    {
      "cell_type": "code",
      "execution_count": 79,
      "metadata": {
        "id": "-6U4HdV4krAY"
      },
      "outputs": [],
      "source": [
        "books_df = pd.read_csv('../csv/books.csv', usecols = ['book_id', 'title'])"
      ]
    },
    {
      "cell_type": "code",
      "execution_count": 80,
      "metadata": {
        "colab": {
          "base_uri": "https://localhost:8080/"
        },
        "id": "DbfUDqVsmcg_",
        "outputId": "62650619-d11b-41ec-e084-ad1dae42ccf5"
      },
      "outputs": [
        {
          "data": {
            "text/plain": [
              "book_id                   5\n",
              "title      The Great Gatsby\n",
              "Name: 4, dtype: object"
            ]
          },
          "execution_count": 80,
          "metadata": {},
          "output_type": "execute_result"
        }
      ],
      "source": [
        "books_df.iloc[4]"
      ]
    },
    {
      "cell_type": "code",
      "execution_count": 83,
      "metadata": {
        "id": "wkj5Bp8DXoxX"
      },
      "outputs": [],
      "source": [
        "X_train_2, X_test_2, y_train_2, y_test_2 = train_test_split(X2, y2, test_size = 0.25, random_state = 21)"
      ]
    },
    {
      "cell_type": "code",
      "execution_count": 86,
      "metadata": {},
      "outputs": [
        {
          "name": "stderr",
          "output_type": "stream",
          "text": [
            "[Parallel(n_jobs=-1)]: Using backend ThreadingBackend with 4 concurrent workers.\n"
          ]
        },
        {
          "name": "stdout",
          "output_type": "stream",
          "text": [
            "building tree 1 of 100building tree 2 of 100\n",
            "building tree 3 of 100\n",
            "\n",
            "building tree 4 of 100\n",
            "building tree 5 of 100\n"
          ]
        },
        {
          "name": "stderr",
          "output_type": "stream",
          "text": [
            "[Parallel(n_jobs=-1)]: Done   1 tasks      | elapsed:  1.2min\n"
          ]
        },
        {
          "name": "stdout",
          "output_type": "stream",
          "text": [
            "building tree 6 of 100\n"
          ]
        },
        {
          "name": "stderr",
          "output_type": "stream",
          "text": [
            "[Parallel(n_jobs=-1)]: Done   2 tasks      | elapsed:  1.2min\n"
          ]
        },
        {
          "name": "stdout",
          "output_type": "stream",
          "text": [
            "building tree 7 of 100\n",
            "building tree 8 of 100\n"
          ]
        },
        {
          "name": "stderr",
          "output_type": "stream",
          "text": [
            "[Parallel(n_jobs=-1)]: Done   3 tasks      | elapsed:  1.2min\n",
            "[Parallel(n_jobs=-1)]: Done   4 tasks      | elapsed:  1.2min\n"
          ]
        },
        {
          "name": "stdout",
          "output_type": "stream",
          "text": [
            "building tree 9 of 100\n",
            "building tree 10 of 100\n"
          ]
        },
        {
          "name": "stderr",
          "output_type": "stream",
          "text": [
            "[Parallel(n_jobs=-1)]: Done   5 tasks      | elapsed:  2.2min\n",
            "[Parallel(n_jobs=-1)]: Done   6 tasks      | elapsed:  2.2min\n"
          ]
        },
        {
          "name": "stdout",
          "output_type": "stream",
          "text": [
            "building tree 11 of 100\n"
          ]
        },
        {
          "name": "stderr",
          "output_type": "stream",
          "text": [
            "[Parallel(n_jobs=-1)]: Done   7 tasks      | elapsed:  2.2min\n"
          ]
        },
        {
          "name": "stdout",
          "output_type": "stream",
          "text": [
            "building tree 12 of 100\n"
          ]
        },
        {
          "name": "stderr",
          "output_type": "stream",
          "text": [
            "[Parallel(n_jobs=-1)]: Done   8 tasks      | elapsed:  2.3min\n"
          ]
        },
        {
          "name": "stdout",
          "output_type": "stream",
          "text": [
            "building tree 13 of 100\n"
          ]
        },
        {
          "name": "stderr",
          "output_type": "stream",
          "text": [
            "[Parallel(n_jobs=-1)]: Done   9 tasks      | elapsed:  3.1min\n"
          ]
        },
        {
          "name": "stdout",
          "output_type": "stream",
          "text": [
            "building tree 14 of 100\n"
          ]
        },
        {
          "name": "stderr",
          "output_type": "stream",
          "text": [
            "[Parallel(n_jobs=-1)]: Done  10 tasks      | elapsed:  3.1min\n"
          ]
        },
        {
          "name": "stdout",
          "output_type": "stream",
          "text": [
            "building tree 15 of 100\n"
          ]
        },
        {
          "name": "stderr",
          "output_type": "stream",
          "text": [
            "[Parallel(n_jobs=-1)]: Done  11 tasks      | elapsed:  3.2min\n"
          ]
        },
        {
          "name": "stdout",
          "output_type": "stream",
          "text": [
            "building tree 16 of 100\n"
          ]
        },
        {
          "name": "stderr",
          "output_type": "stream",
          "text": [
            "[Parallel(n_jobs=-1)]: Done  12 tasks      | elapsed:  3.2min\n"
          ]
        },
        {
          "name": "stdout",
          "output_type": "stream",
          "text": [
            "building tree 17 of 100\n"
          ]
        },
        {
          "name": "stderr",
          "output_type": "stream",
          "text": [
            "[Parallel(n_jobs=-1)]: Done  13 tasks      | elapsed:  4.1min\n"
          ]
        },
        {
          "name": "stdout",
          "output_type": "stream",
          "text": [
            "building tree 18 of 100\n",
            "building tree 19 of 100\n"
          ]
        },
        {
          "name": "stderr",
          "output_type": "stream",
          "text": [
            "[Parallel(n_jobs=-1)]: Done  14 tasks      | elapsed:  4.2min\n",
            "[Parallel(n_jobs=-1)]: Done  15 tasks      | elapsed:  4.2min\n"
          ]
        },
        {
          "name": "stdout",
          "output_type": "stream",
          "text": [
            "building tree 20 of 100\n"
          ]
        },
        {
          "name": "stderr",
          "output_type": "stream",
          "text": [
            "[Parallel(n_jobs=-1)]: Done  16 tasks      | elapsed:  4.2min\n"
          ]
        },
        {
          "name": "stdout",
          "output_type": "stream",
          "text": [
            "building tree 21 of 100\n"
          ]
        },
        {
          "name": "stderr",
          "output_type": "stream",
          "text": [
            "[Parallel(n_jobs=-1)]: Done  17 tasks      | elapsed:  5.1min\n"
          ]
        },
        {
          "name": "stdout",
          "output_type": "stream",
          "text": [
            "building tree 22 of 100\n"
          ]
        },
        {
          "name": "stderr",
          "output_type": "stream",
          "text": [
            "[Parallel(n_jobs=-1)]: Done  18 tasks      | elapsed:  5.1min\n"
          ]
        },
        {
          "name": "stdout",
          "output_type": "stream",
          "text": [
            "building tree 23 of 100\n"
          ]
        },
        {
          "name": "stderr",
          "output_type": "stream",
          "text": [
            "[Parallel(n_jobs=-1)]: Done  19 tasks      | elapsed:  5.1min\n"
          ]
        },
        {
          "name": "stdout",
          "output_type": "stream",
          "text": [
            "building tree 24 of 100\n"
          ]
        },
        {
          "name": "stderr",
          "output_type": "stream",
          "text": [
            "[Parallel(n_jobs=-1)]: Done  20 tasks      | elapsed:  5.2min\n"
          ]
        },
        {
          "name": "stdout",
          "output_type": "stream",
          "text": [
            "building tree 25 of 100\n"
          ]
        },
        {
          "name": "stderr",
          "output_type": "stream",
          "text": [
            "[Parallel(n_jobs=-1)]: Done  21 tasks      | elapsed:  6.2min\n"
          ]
        },
        {
          "name": "stdout",
          "output_type": "stream",
          "text": [
            "building tree 26 of 100\n"
          ]
        },
        {
          "name": "stderr",
          "output_type": "stream",
          "text": [
            "[Parallel(n_jobs=-1)]: Done  22 tasks      | elapsed:  6.2min\n"
          ]
        },
        {
          "name": "stdout",
          "output_type": "stream",
          "text": [
            "building tree 27 of 100\n"
          ]
        },
        {
          "name": "stderr",
          "output_type": "stream",
          "text": [
            "[Parallel(n_jobs=-1)]: Done  23 tasks      | elapsed:  6.3min\n"
          ]
        },
        {
          "name": "stdout",
          "output_type": "stream",
          "text": [
            "building tree 28 of 100\n"
          ]
        },
        {
          "name": "stderr",
          "output_type": "stream",
          "text": [
            "[Parallel(n_jobs=-1)]: Done  24 tasks      | elapsed:  6.3min\n"
          ]
        },
        {
          "name": "stdout",
          "output_type": "stream",
          "text": [
            "building tree 29 of 100\n"
          ]
        },
        {
          "name": "stderr",
          "output_type": "stream",
          "text": [
            "[Parallel(n_jobs=-1)]: Done  25 tasks      | elapsed:  7.6min\n"
          ]
        },
        {
          "name": "stdout",
          "output_type": "stream",
          "text": [
            "building tree 30 of 100\n"
          ]
        },
        {
          "name": "stderr",
          "output_type": "stream",
          "text": [
            "[Parallel(n_jobs=-1)]: Done  26 tasks      | elapsed:  7.7min\n"
          ]
        },
        {
          "name": "stdout",
          "output_type": "stream",
          "text": [
            "building tree 31 of 100\n"
          ]
        },
        {
          "name": "stderr",
          "output_type": "stream",
          "text": [
            "[Parallel(n_jobs=-1)]: Done  27 tasks      | elapsed:  7.7min\n"
          ]
        },
        {
          "name": "stdout",
          "output_type": "stream",
          "text": [
            "building tree 32 of 100\n"
          ]
        },
        {
          "name": "stderr",
          "output_type": "stream",
          "text": [
            "[Parallel(n_jobs=-1)]: Done  28 tasks      | elapsed:  7.7min\n"
          ]
        },
        {
          "name": "stdout",
          "output_type": "stream",
          "text": [
            "building tree 33 of 100\n"
          ]
        },
        {
          "name": "stderr",
          "output_type": "stream",
          "text": [
            "[Parallel(n_jobs=-1)]: Done  29 tasks      | elapsed:  9.4min\n"
          ]
        },
        {
          "name": "stdout",
          "output_type": "stream",
          "text": [
            "building tree 34 of 100\n"
          ]
        },
        {
          "name": "stderr",
          "output_type": "stream",
          "text": [
            "[Parallel(n_jobs=-1)]: Done  30 tasks      | elapsed:  9.4min\n"
          ]
        },
        {
          "name": "stdout",
          "output_type": "stream",
          "text": [
            "building tree 35 of 100\n"
          ]
        },
        {
          "name": "stderr",
          "output_type": "stream",
          "text": [
            "[Parallel(n_jobs=-1)]: Done  31 tasks      | elapsed:  9.4min\n"
          ]
        },
        {
          "name": "stdout",
          "output_type": "stream",
          "text": [
            "building tree 36 of 100\n"
          ]
        },
        {
          "name": "stderr",
          "output_type": "stream",
          "text": [
            "[Parallel(n_jobs=-1)]: Done  32 tasks      | elapsed:  9.5min\n"
          ]
        },
        {
          "name": "stdout",
          "output_type": "stream",
          "text": [
            "building tree 37 of 100\n"
          ]
        },
        {
          "name": "stderr",
          "output_type": "stream",
          "text": [
            "[Parallel(n_jobs=-1)]: Done  33 tasks      | elapsed: 10.8min\n"
          ]
        },
        {
          "name": "stdout",
          "output_type": "stream",
          "text": [
            "building tree 38 of 100\n"
          ]
        },
        {
          "name": "stderr",
          "output_type": "stream",
          "text": [
            "[Parallel(n_jobs=-1)]: Done  34 tasks      | elapsed: 10.8min\n"
          ]
        },
        {
          "name": "stdout",
          "output_type": "stream",
          "text": [
            "building tree 39 of 100\n"
          ]
        },
        {
          "name": "stderr",
          "output_type": "stream",
          "text": [
            "[Parallel(n_jobs=-1)]: Done  35 tasks      | elapsed: 10.9min\n"
          ]
        },
        {
          "name": "stdout",
          "output_type": "stream",
          "text": [
            "building tree 40 of 100\n"
          ]
        },
        {
          "name": "stderr",
          "output_type": "stream",
          "text": [
            "[Parallel(n_jobs=-1)]: Done  36 tasks      | elapsed: 10.9min\n"
          ]
        },
        {
          "name": "stdout",
          "output_type": "stream",
          "text": [
            "building tree 41 of 100\n"
          ]
        },
        {
          "name": "stderr",
          "output_type": "stream",
          "text": [
            "[Parallel(n_jobs=-1)]: Done  37 tasks      | elapsed: 12.0min\n"
          ]
        },
        {
          "name": "stdout",
          "output_type": "stream",
          "text": [
            "building tree 42 of 100\n"
          ]
        },
        {
          "name": "stderr",
          "output_type": "stream",
          "text": [
            "[Parallel(n_jobs=-1)]: Done  38 tasks      | elapsed: 12.0min\n"
          ]
        },
        {
          "name": "stdout",
          "output_type": "stream",
          "text": [
            "building tree 43 of 100\n"
          ]
        },
        {
          "name": "stderr",
          "output_type": "stream",
          "text": [
            "[Parallel(n_jobs=-1)]: Done  39 tasks      | elapsed: 12.0min\n"
          ]
        },
        {
          "name": "stdout",
          "output_type": "stream",
          "text": [
            "building tree 44 of 100\n"
          ]
        },
        {
          "name": "stderr",
          "output_type": "stream",
          "text": [
            "[Parallel(n_jobs=-1)]: Done  40 tasks      | elapsed: 12.1min\n"
          ]
        },
        {
          "name": "stdout",
          "output_type": "stream",
          "text": [
            "building tree 45 of 100\n"
          ]
        },
        {
          "name": "stderr",
          "output_type": "stream",
          "text": [
            "[Parallel(n_jobs=-1)]: Done  41 tasks      | elapsed: 13.6min\n"
          ]
        },
        {
          "name": "stdout",
          "output_type": "stream",
          "text": [
            "building tree 46 of 100\n"
          ]
        },
        {
          "name": "stderr",
          "output_type": "stream",
          "text": [
            "[Parallel(n_jobs=-1)]: Done  42 tasks      | elapsed: 13.6min\n"
          ]
        },
        {
          "name": "stdout",
          "output_type": "stream",
          "text": [
            "building tree 47 of 100\n"
          ]
        },
        {
          "name": "stderr",
          "output_type": "stream",
          "text": [
            "[Parallel(n_jobs=-1)]: Done  43 tasks      | elapsed: 13.6min\n"
          ]
        },
        {
          "name": "stdout",
          "output_type": "stream",
          "text": [
            "building tree 48 of 100\n"
          ]
        },
        {
          "name": "stderr",
          "output_type": "stream",
          "text": [
            "[Parallel(n_jobs=-1)]: Done  44 tasks      | elapsed: 13.7min\n"
          ]
        },
        {
          "name": "stdout",
          "output_type": "stream",
          "text": [
            "building tree 49 of 100\n",
            "building tree 50 of 100\n"
          ]
        },
        {
          "name": "stderr",
          "output_type": "stream",
          "text": [
            "[Parallel(n_jobs=-1)]: Done  45 tasks      | elapsed: 15.3min\n",
            "[Parallel(n_jobs=-1)]: Done  46 tasks      | elapsed: 15.3min\n"
          ]
        },
        {
          "name": "stdout",
          "output_type": "stream",
          "text": [
            "building tree 51 of 100\n"
          ]
        },
        {
          "name": "stderr",
          "output_type": "stream",
          "text": [
            "[Parallel(n_jobs=-1)]: Done  47 tasks      | elapsed: 15.3min\n"
          ]
        },
        {
          "name": "stdout",
          "output_type": "stream",
          "text": [
            "building tree 52 of 100\n"
          ]
        },
        {
          "name": "stderr",
          "output_type": "stream",
          "text": [
            "[Parallel(n_jobs=-1)]: Done  48 tasks      | elapsed: 15.4min\n"
          ]
        },
        {
          "name": "stdout",
          "output_type": "stream",
          "text": [
            "building tree 53 of 100\n"
          ]
        },
        {
          "name": "stderr",
          "output_type": "stream",
          "text": [
            "[Parallel(n_jobs=-1)]: Done  49 tasks      | elapsed: 17.0min\n"
          ]
        },
        {
          "name": "stdout",
          "output_type": "stream",
          "text": [
            "building tree 54 of 100\n"
          ]
        },
        {
          "name": "stderr",
          "output_type": "stream",
          "text": [
            "[Parallel(n_jobs=-1)]: Done  50 tasks      | elapsed: 17.0min\n"
          ]
        },
        {
          "name": "stdout",
          "output_type": "stream",
          "text": [
            "building tree 55 of 100\n"
          ]
        },
        {
          "name": "stderr",
          "output_type": "stream",
          "text": [
            "[Parallel(n_jobs=-1)]: Done  51 tasks      | elapsed: 17.0min\n"
          ]
        },
        {
          "name": "stdout",
          "output_type": "stream",
          "text": [
            "building tree 56 of 100\n"
          ]
        },
        {
          "name": "stderr",
          "output_type": "stream",
          "text": [
            "[Parallel(n_jobs=-1)]: Done  52 tasks      | elapsed: 17.0min\n"
          ]
        },
        {
          "name": "stdout",
          "output_type": "stream",
          "text": [
            "building tree 57 of 100\n"
          ]
        },
        {
          "name": "stderr",
          "output_type": "stream",
          "text": [
            "[Parallel(n_jobs=-1)]: Done  53 tasks      | elapsed: 18.6min\n"
          ]
        },
        {
          "name": "stdout",
          "output_type": "stream",
          "text": [
            "building tree 58 of 100\n"
          ]
        },
        {
          "name": "stderr",
          "output_type": "stream",
          "text": [
            "[Parallel(n_jobs=-1)]: Done  54 tasks      | elapsed: 18.6min\n"
          ]
        },
        {
          "name": "stdout",
          "output_type": "stream",
          "text": [
            "building tree 59 of 100\n"
          ]
        },
        {
          "name": "stderr",
          "output_type": "stream",
          "text": [
            "[Parallel(n_jobs=-1)]: Done  55 tasks      | elapsed: 18.7min\n"
          ]
        },
        {
          "name": "stdout",
          "output_type": "stream",
          "text": [
            "building tree 60 of 100\n"
          ]
        },
        {
          "name": "stderr",
          "output_type": "stream",
          "text": [
            "[Parallel(n_jobs=-1)]: Done  56 tasks      | elapsed: 18.7min\n"
          ]
        },
        {
          "name": "stdout",
          "output_type": "stream",
          "text": [
            "building tree 61 of 100\n"
          ]
        },
        {
          "name": "stderr",
          "output_type": "stream",
          "text": [
            "[Parallel(n_jobs=-1)]: Done  57 tasks      | elapsed: 20.1min\n"
          ]
        },
        {
          "name": "stdout",
          "output_type": "stream",
          "text": [
            "building tree 62 of 100\n"
          ]
        },
        {
          "name": "stderr",
          "output_type": "stream",
          "text": [
            "[Parallel(n_jobs=-1)]: Done  58 tasks      | elapsed: 20.1min\n"
          ]
        },
        {
          "name": "stdout",
          "output_type": "stream",
          "text": [
            "building tree 63 of 100\n"
          ]
        },
        {
          "name": "stderr",
          "output_type": "stream",
          "text": [
            "[Parallel(n_jobs=-1)]: Done  59 tasks      | elapsed: 20.2min\n"
          ]
        },
        {
          "name": "stdout",
          "output_type": "stream",
          "text": [
            "building tree 64 of 100\n"
          ]
        },
        {
          "name": "stderr",
          "output_type": "stream",
          "text": [
            "[Parallel(n_jobs=-1)]: Done  60 tasks      | elapsed: 20.2min\n"
          ]
        },
        {
          "name": "stdout",
          "output_type": "stream",
          "text": [
            "building tree 65 of 100\n"
          ]
        },
        {
          "name": "stderr",
          "output_type": "stream",
          "text": [
            "[Parallel(n_jobs=-1)]: Done  61 tasks      | elapsed: 21.7min\n"
          ]
        },
        {
          "name": "stdout",
          "output_type": "stream",
          "text": [
            "building tree 66 of 100\n"
          ]
        },
        {
          "name": "stderr",
          "output_type": "stream",
          "text": [
            "[Parallel(n_jobs=-1)]: Done  62 tasks      | elapsed: 21.8min\n"
          ]
        },
        {
          "name": "stdout",
          "output_type": "stream",
          "text": [
            "building tree 67 of 100\n"
          ]
        },
        {
          "name": "stderr",
          "output_type": "stream",
          "text": [
            "[Parallel(n_jobs=-1)]: Done  63 tasks      | elapsed: 21.8min\n"
          ]
        },
        {
          "name": "stdout",
          "output_type": "stream",
          "text": [
            "building tree 68 of 100\n"
          ]
        },
        {
          "name": "stderr",
          "output_type": "stream",
          "text": [
            "[Parallel(n_jobs=-1)]: Done  64 tasks      | elapsed: 21.9min\n"
          ]
        },
        {
          "name": "stdout",
          "output_type": "stream",
          "text": [
            "building tree 69 of 100\n"
          ]
        },
        {
          "name": "stderr",
          "output_type": "stream",
          "text": [
            "[Parallel(n_jobs=-1)]: Done  65 tasks      | elapsed: 23.1min\n"
          ]
        },
        {
          "name": "stdout",
          "output_type": "stream",
          "text": [
            "building tree 70 of 100\n"
          ]
        },
        {
          "name": "stderr",
          "output_type": "stream",
          "text": [
            "[Parallel(n_jobs=-1)]: Done  66 tasks      | elapsed: 23.1min\n"
          ]
        },
        {
          "name": "stdout",
          "output_type": "stream",
          "text": [
            "building tree 71 of 100\n",
            "building tree 72 of 100\n"
          ]
        },
        {
          "name": "stderr",
          "output_type": "stream",
          "text": [
            "[Parallel(n_jobs=-1)]: Done  67 tasks      | elapsed: 23.2min\n",
            "[Parallel(n_jobs=-1)]: Done  68 tasks      | elapsed: 23.2min\n"
          ]
        },
        {
          "name": "stdout",
          "output_type": "stream",
          "text": [
            "building tree 73 of 100\n"
          ]
        },
        {
          "name": "stderr",
          "output_type": "stream",
          "text": [
            "[Parallel(n_jobs=-1)]: Done  69 tasks      | elapsed: 24.4min\n"
          ]
        },
        {
          "name": "stdout",
          "output_type": "stream",
          "text": [
            "building tree 74 of 100\n"
          ]
        },
        {
          "name": "stderr",
          "output_type": "stream",
          "text": [
            "[Parallel(n_jobs=-1)]: Done  70 tasks      | elapsed: 24.4min\n"
          ]
        },
        {
          "name": "stdout",
          "output_type": "stream",
          "text": [
            "building tree 75 of 100\n"
          ]
        },
        {
          "name": "stderr",
          "output_type": "stream",
          "text": [
            "[Parallel(n_jobs=-1)]: Done  71 tasks      | elapsed: 24.5min\n"
          ]
        },
        {
          "name": "stdout",
          "output_type": "stream",
          "text": [
            "building tree 76 of 100\n"
          ]
        },
        {
          "name": "stderr",
          "output_type": "stream",
          "text": [
            "[Parallel(n_jobs=-1)]: Done  72 tasks      | elapsed: 24.5min\n"
          ]
        },
        {
          "name": "stdout",
          "output_type": "stream",
          "text": [
            "building tree 77 of 100\n"
          ]
        },
        {
          "name": "stderr",
          "output_type": "stream",
          "text": [
            "[Parallel(n_jobs=-1)]: Done  73 tasks      | elapsed: 25.7min\n"
          ]
        },
        {
          "name": "stdout",
          "output_type": "stream",
          "text": [
            "building tree 78 of 100\n"
          ]
        },
        {
          "name": "stderr",
          "output_type": "stream",
          "text": [
            "[Parallel(n_jobs=-1)]: Done  74 tasks      | elapsed: 25.8min\n"
          ]
        },
        {
          "name": "stdout",
          "output_type": "stream",
          "text": [
            "building tree 79 of 100\n"
          ]
        },
        {
          "name": "stderr",
          "output_type": "stream",
          "text": [
            "[Parallel(n_jobs=-1)]: Done  75 tasks      | elapsed: 25.8min\n"
          ]
        },
        {
          "name": "stdout",
          "output_type": "stream",
          "text": [
            "building tree 80 of 100\n"
          ]
        },
        {
          "name": "stderr",
          "output_type": "stream",
          "text": [
            "[Parallel(n_jobs=-1)]: Done  76 tasks      | elapsed: 25.9min\n"
          ]
        },
        {
          "name": "stdout",
          "output_type": "stream",
          "text": [
            "building tree 81 of 100\n"
          ]
        },
        {
          "name": "stderr",
          "output_type": "stream",
          "text": [
            "[Parallel(n_jobs=-1)]: Done  77 tasks      | elapsed: 27.0min\n"
          ]
        },
        {
          "name": "stdout",
          "output_type": "stream",
          "text": [
            "building tree 82 of 100\n"
          ]
        },
        {
          "name": "stderr",
          "output_type": "stream",
          "text": [
            "[Parallel(n_jobs=-1)]: Done  78 tasks      | elapsed: 27.1min\n"
          ]
        },
        {
          "name": "stdout",
          "output_type": "stream",
          "text": [
            "building tree 83 of 100\n"
          ]
        },
        {
          "name": "stderr",
          "output_type": "stream",
          "text": [
            "[Parallel(n_jobs=-1)]: Done  79 tasks      | elapsed: 27.2min\n"
          ]
        },
        {
          "name": "stdout",
          "output_type": "stream",
          "text": [
            "building tree 84 of 100\n"
          ]
        },
        {
          "name": "stderr",
          "output_type": "stream",
          "text": [
            "[Parallel(n_jobs=-1)]: Done  80 tasks      | elapsed: 27.2min\n"
          ]
        },
        {
          "name": "stdout",
          "output_type": "stream",
          "text": [
            "building tree 85 of 100\n"
          ]
        },
        {
          "name": "stderr",
          "output_type": "stream",
          "text": [
            "[Parallel(n_jobs=-1)]: Done  81 tasks      | elapsed: 28.3min\n"
          ]
        },
        {
          "name": "stdout",
          "output_type": "stream",
          "text": [
            "building tree 86 of 100\n"
          ]
        },
        {
          "name": "stderr",
          "output_type": "stream",
          "text": [
            "[Parallel(n_jobs=-1)]: Done  82 tasks      | elapsed: 28.4min\n"
          ]
        },
        {
          "name": "stdout",
          "output_type": "stream",
          "text": [
            "building tree 87 of 100\n"
          ]
        },
        {
          "name": "stderr",
          "output_type": "stream",
          "text": [
            "[Parallel(n_jobs=-1)]: Done  83 tasks      | elapsed: 28.4min\n"
          ]
        },
        {
          "name": "stdout",
          "output_type": "stream",
          "text": [
            "building tree 88 of 100\n"
          ]
        },
        {
          "name": "stderr",
          "output_type": "stream",
          "text": [
            "[Parallel(n_jobs=-1)]: Done  84 tasks      | elapsed: 28.5min\n"
          ]
        },
        {
          "name": "stdout",
          "output_type": "stream",
          "text": [
            "building tree 89 of 100\n"
          ]
        },
        {
          "name": "stderr",
          "output_type": "stream",
          "text": [
            "[Parallel(n_jobs=-1)]: Done  85 tasks      | elapsed: 29.6min\n"
          ]
        },
        {
          "name": "stdout",
          "output_type": "stream",
          "text": [
            "building tree 90 of 100\n"
          ]
        },
        {
          "name": "stderr",
          "output_type": "stream",
          "text": [
            "[Parallel(n_jobs=-1)]: Done  86 tasks      | elapsed: 29.7min\n"
          ]
        },
        {
          "name": "stdout",
          "output_type": "stream",
          "text": [
            "building tree 91 of 100\n"
          ]
        },
        {
          "name": "stderr",
          "output_type": "stream",
          "text": [
            "[Parallel(n_jobs=-1)]: Done  87 tasks      | elapsed: 29.8min\n"
          ]
        },
        {
          "name": "stdout",
          "output_type": "stream",
          "text": [
            "building tree 92 of 100\n"
          ]
        },
        {
          "name": "stderr",
          "output_type": "stream",
          "text": [
            "[Parallel(n_jobs=-1)]: Done  88 tasks      | elapsed: 29.8min\n"
          ]
        },
        {
          "name": "stdout",
          "output_type": "stream",
          "text": [
            "building tree 93 of 100\n"
          ]
        },
        {
          "name": "stderr",
          "output_type": "stream",
          "text": [
            "[Parallel(n_jobs=-1)]: Done  89 tasks      | elapsed: 30.9min\n"
          ]
        },
        {
          "name": "stdout",
          "output_type": "stream",
          "text": [
            "building tree 94 of 100\n"
          ]
        },
        {
          "name": "stderr",
          "output_type": "stream",
          "text": [
            "[Parallel(n_jobs=-1)]: Done  90 tasks      | elapsed: 31.3min\n"
          ]
        },
        {
          "name": "stdout",
          "output_type": "stream",
          "text": [
            "building tree 95 of 100\n"
          ]
        },
        {
          "name": "stderr",
          "output_type": "stream",
          "text": [
            "[Parallel(n_jobs=-1)]: Done  91 tasks      | elapsed: 31.3min\n"
          ]
        },
        {
          "name": "stdout",
          "output_type": "stream",
          "text": [
            "building tree 96 of 100\n"
          ]
        },
        {
          "name": "stderr",
          "output_type": "stream",
          "text": [
            "[Parallel(n_jobs=-1)]: Done  92 tasks      | elapsed: 31.3min\n"
          ]
        },
        {
          "name": "stdout",
          "output_type": "stream",
          "text": [
            "building tree 97 of 100\n"
          ]
        },
        {
          "name": "stderr",
          "output_type": "stream",
          "text": [
            "[Parallel(n_jobs=-1)]: Done  93 tasks      | elapsed: 32.4min\n"
          ]
        },
        {
          "name": "stdout",
          "output_type": "stream",
          "text": [
            "building tree 98 of 100\n",
            "building tree 99 of 100\n",
            "building tree 100 of 100\n"
          ]
        },
        {
          "name": "stderr",
          "output_type": "stream",
          "text": [
            "[Parallel(n_jobs=-1)]: Done 100 out of 100 | elapsed: 33.9min finished\n",
            "[Parallel(n_jobs=4)]: Using backend ThreadingBackend with 4 concurrent workers.\n",
            "[Parallel(n_jobs=4)]: Done   1 tasks      | elapsed:    3.1s\n",
            "[Parallel(n_jobs=4)]: Done   2 tasks      | elapsed:    3.1s\n",
            "[Parallel(n_jobs=4)]: Done   3 tasks      | elapsed:    3.1s\n",
            "[Parallel(n_jobs=4)]: Done   4 tasks      | elapsed:    3.1s\n",
            "[Parallel(n_jobs=4)]: Done   5 tasks      | elapsed:    6.4s\n",
            "[Parallel(n_jobs=4)]: Done   6 tasks      | elapsed:    6.4s\n",
            "[Parallel(n_jobs=4)]: Done   7 tasks      | elapsed:    6.5s\n",
            "[Parallel(n_jobs=4)]: Done   8 tasks      | elapsed:    6.7s\n",
            "[Parallel(n_jobs=4)]: Done   9 tasks      | elapsed:   10.0s\n",
            "[Parallel(n_jobs=4)]: Done  10 tasks      | elapsed:   10.1s\n",
            "[Parallel(n_jobs=4)]: Done  11 tasks      | elapsed:   10.1s\n",
            "[Parallel(n_jobs=4)]: Done  12 tasks      | elapsed:   10.1s\n",
            "[Parallel(n_jobs=4)]: Done  13 tasks      | elapsed:   13.3s\n",
            "[Parallel(n_jobs=4)]: Done  14 tasks      | elapsed:   13.3s\n",
            "[Parallel(n_jobs=4)]: Done  15 tasks      | elapsed:   13.3s\n",
            "[Parallel(n_jobs=4)]: Done  16 tasks      | elapsed:   13.4s\n",
            "[Parallel(n_jobs=4)]: Done  17 tasks      | elapsed:   16.5s\n",
            "[Parallel(n_jobs=4)]: Done  18 tasks      | elapsed:   16.6s\n",
            "[Parallel(n_jobs=4)]: Done  19 tasks      | elapsed:   16.6s\n",
            "[Parallel(n_jobs=4)]: Done  20 tasks      | elapsed:   16.8s\n",
            "[Parallel(n_jobs=4)]: Done  21 tasks      | elapsed:   20.1s\n",
            "[Parallel(n_jobs=4)]: Done  22 tasks      | elapsed:   20.1s\n",
            "[Parallel(n_jobs=4)]: Done  23 tasks      | elapsed:   20.2s\n",
            "[Parallel(n_jobs=4)]: Done  24 tasks      | elapsed:   20.3s\n",
            "[Parallel(n_jobs=4)]: Done  25 tasks      | elapsed:   23.3s\n",
            "[Parallel(n_jobs=4)]: Done  26 tasks      | elapsed:   23.3s\n",
            "[Parallel(n_jobs=4)]: Done  27 tasks      | elapsed:   23.3s\n",
            "[Parallel(n_jobs=4)]: Done  28 tasks      | elapsed:   23.5s\n",
            "[Parallel(n_jobs=4)]: Done  29 tasks      | elapsed:   26.5s\n",
            "[Parallel(n_jobs=4)]: Done  30 tasks      | elapsed:   26.5s\n",
            "[Parallel(n_jobs=4)]: Done  31 tasks      | elapsed:   26.6s\n",
            "[Parallel(n_jobs=4)]: Done  32 tasks      | elapsed:   26.7s\n",
            "[Parallel(n_jobs=4)]: Done  33 tasks      | elapsed:   29.7s\n",
            "[Parallel(n_jobs=4)]: Done  34 tasks      | elapsed:   29.8s\n",
            "[Parallel(n_jobs=4)]: Done  35 tasks      | elapsed:   29.8s\n",
            "[Parallel(n_jobs=4)]: Done  36 tasks      | elapsed:   29.9s\n",
            "[Parallel(n_jobs=4)]: Done  37 tasks      | elapsed:   32.9s\n",
            "[Parallel(n_jobs=4)]: Done  38 tasks      | elapsed:   33.0s\n",
            "[Parallel(n_jobs=4)]: Done  39 tasks      | elapsed:   33.1s\n",
            "[Parallel(n_jobs=4)]: Done  40 tasks      | elapsed:   33.2s\n",
            "[Parallel(n_jobs=4)]: Done  41 tasks      | elapsed:   36.3s\n",
            "[Parallel(n_jobs=4)]: Done  42 tasks      | elapsed:   36.3s\n",
            "[Parallel(n_jobs=4)]: Done  43 tasks      | elapsed:   36.4s\n",
            "[Parallel(n_jobs=4)]: Done  44 tasks      | elapsed:   36.5s\n",
            "[Parallel(n_jobs=4)]: Done  45 tasks      | elapsed:   39.4s\n",
            "[Parallel(n_jobs=4)]: Done  46 tasks      | elapsed:   39.5s\n",
            "[Parallel(n_jobs=4)]: Done  47 tasks      | elapsed:   39.5s\n",
            "[Parallel(n_jobs=4)]: Done  48 tasks      | elapsed:   39.6s\n",
            "[Parallel(n_jobs=4)]: Done  49 tasks      | elapsed:   42.6s\n",
            "[Parallel(n_jobs=4)]: Done  50 tasks      | elapsed:   42.7s\n",
            "[Parallel(n_jobs=4)]: Done  51 tasks      | elapsed:   42.8s\n",
            "[Parallel(n_jobs=4)]: Done  52 tasks      | elapsed:   43.0s\n",
            "[Parallel(n_jobs=4)]: Done  53 tasks      | elapsed:   45.7s\n",
            "[Parallel(n_jobs=4)]: Done  54 tasks      | elapsed:   45.8s\n",
            "[Parallel(n_jobs=4)]: Done  55 tasks      | elapsed:   46.0s\n",
            "[Parallel(n_jobs=4)]: Done  56 tasks      | elapsed:   46.1s\n",
            "[Parallel(n_jobs=4)]: Done  57 tasks      | elapsed:   49.0s\n",
            "[Parallel(n_jobs=4)]: Done  58 tasks      | elapsed:   49.0s\n",
            "[Parallel(n_jobs=4)]: Done  59 tasks      | elapsed:   49.2s\n",
            "[Parallel(n_jobs=4)]: Done  60 tasks      | elapsed:   49.2s\n",
            "[Parallel(n_jobs=4)]: Done  61 tasks      | elapsed:   52.3s\n",
            "[Parallel(n_jobs=4)]: Done  62 tasks      | elapsed:   52.3s\n",
            "[Parallel(n_jobs=4)]: Done  63 tasks      | elapsed:   52.5s\n",
            "[Parallel(n_jobs=4)]: Done  64 tasks      | elapsed:   52.7s\n",
            "[Parallel(n_jobs=4)]: Done  65 tasks      | elapsed:   55.4s\n",
            "[Parallel(n_jobs=4)]: Done  66 tasks      | elapsed:   55.7s\n",
            "[Parallel(n_jobs=4)]: Done  67 tasks      | elapsed:   55.7s\n",
            "[Parallel(n_jobs=4)]: Done  68 tasks      | elapsed:   55.9s\n",
            "[Parallel(n_jobs=4)]: Done  69 tasks      | elapsed:   58.6s\n",
            "[Parallel(n_jobs=4)]: Done  70 tasks      | elapsed:   58.8s\n",
            "[Parallel(n_jobs=4)]: Done  71 tasks      | elapsed:   58.9s\n",
            "[Parallel(n_jobs=4)]: Done  72 tasks      | elapsed:   59.1s\n",
            "[Parallel(n_jobs=4)]: Done  73 tasks      | elapsed:  1.0min\n",
            "[Parallel(n_jobs=4)]: Done  74 tasks      | elapsed:  1.0min\n",
            "[Parallel(n_jobs=4)]: Done  75 tasks      | elapsed:  1.0min\n",
            "[Parallel(n_jobs=4)]: Done  76 tasks      | elapsed:  1.0min\n",
            "[Parallel(n_jobs=4)]: Done  77 tasks      | elapsed:  1.1min\n",
            "[Parallel(n_jobs=4)]: Done  78 tasks      | elapsed:  1.1min\n",
            "[Parallel(n_jobs=4)]: Done  79 tasks      | elapsed:  1.1min\n",
            "[Parallel(n_jobs=4)]: Done  80 tasks      | elapsed:  1.1min\n",
            "[Parallel(n_jobs=4)]: Done  81 tasks      | elapsed:  1.1min\n",
            "[Parallel(n_jobs=4)]: Done  82 tasks      | elapsed:  1.1min\n",
            "[Parallel(n_jobs=4)]: Done  83 tasks      | elapsed:  1.1min\n",
            "[Parallel(n_jobs=4)]: Done  84 tasks      | elapsed:  1.1min\n",
            "[Parallel(n_jobs=4)]: Done  85 tasks      | elapsed:  1.2min\n",
            "[Parallel(n_jobs=4)]: Done  86 tasks      | elapsed:  1.2min\n",
            "[Parallel(n_jobs=4)]: Done  87 tasks      | elapsed:  1.2min\n",
            "[Parallel(n_jobs=4)]: Done  88 tasks      | elapsed:  1.2min\n",
            "[Parallel(n_jobs=4)]: Done  89 tasks      | elapsed:  1.2min\n",
            "[Parallel(n_jobs=4)]: Done  90 tasks      | elapsed:  1.2min\n",
            "[Parallel(n_jobs=4)]: Done  91 tasks      | elapsed:  1.2min\n",
            "[Parallel(n_jobs=4)]: Done  92 tasks      | elapsed:  1.3min\n",
            "[Parallel(n_jobs=4)]: Done  93 tasks      | elapsed:  1.3min\n",
            "[Parallel(n_jobs=4)]: Done 100 out of 100 | elapsed:  1.4min finished\n"
          ]
        },
        {
          "data": {
            "text/plain": [
              "0.8578782159398174"
            ]
          },
          "execution_count": 86,
          "metadata": {},
          "output_type": "execute_result"
        }
      ],
      "source": [
        "rfc = RandomForestClassifier(verbose=11, n_jobs=-1)\n",
        "rfc.fit(X_train_2, y_train_2)\n",
        "pred = rfc.predict(X_test_2)\n",
        "accuracyScore = accuracy_score(pred, y_test_2)\n",
        "accuracyScore"
      ]
    },
    {
      "cell_type": "code",
      "execution_count": 89,
      "metadata": {},
      "outputs": [
        {
          "data": {
            "text/plain": [
              "0.8578782159398174"
            ]
          },
          "execution_count": 89,
          "metadata": {},
          "output_type": "execute_result"
        }
      ],
      "source": [
        "# this marks accuracy of the random forrest model\n",
        "accuracyScore"
      ]
    },
    {
      "cell_type": "code",
      "execution_count": 123,
      "metadata": {
        "id": "kbk7bfOZc6AZ"
      },
      "outputs": [],
      "source": [
        "def RECOMMEND_N_TOP(userID: int, n=5, books_df=books_df, book_embeddings_df=book_embeddings_df):\n",
        "    '''\n",
        "    ratings_merged: dataframe which merged embeddings from the neural network\n",
        "    we will perform an emsemble of two models, our neural net, and a random forrest for improved accuracy\n",
        "    '''\n",
        "    \n",
        "    user_i = ratings[ratings['user_id'] == userID].values\n",
        "    uninteracted_books = np.zeros(10000)\n",
        "    uninteracted_books[user_i[:, 1]] = 1\n",
        "\n",
        "    uninteracted_books_idx = np.argwhere(uninteracted_books == 0).reshape(-1)\n",
        "    uninteracted_user_idx = np.array(\n",
        "        [user_i[:, 0][0]for i in range(len(uninteracted_books_idx))])\n",
        "\n",
        "\n",
        "    # X_test_user_i = book_embeddings_df[book_embeddings_df['book_id'].isin(uninteracted_books_idx + 1)]\n",
        "    # X_test_user_i['user_id'] = [userID] * len(X_test_user_i)\n",
        "    \n",
        "    # target = rfc.predict(X_test_user_i.values)\n",
        "    # target_sorted_idx = np.argsort(target.ravel())[::-1]\n",
        "    \n",
        "    # print(target, target_sorted_idx)\n",
        "\n",
        "\n",
        "    # # print(uninteracted_books_idx.shape, uninteracted_user_idx.shape)\n",
        "\n",
        "    recommender.eval()\n",
        "    with torch.no_grad():\n",
        "        output = recommender(torch.tensor(uninteracted_user_idx, dtype=torch.long), torch.tensor(\n",
        "            uninteracted_books_idx, dtype=torch.long))\n",
        "\n",
        "    output = output.cpu()\n",
        "    # print()\n",
        "    sorted_idx = np.argsort(output.reshape(-1))\n",
        "    sorted_idx = sorted_idx.numpy()[::-1]\n",
        "\n",
        "    uninteracted_books_idx = uninteracted_books_idx[sorted_idx][:n]\n",
        "\n",
        "    return pd.DataFrame({'TOP_N_RECOMMENDATIONS': books_df['title'].iloc[uninteracted_books_idx].to_numpy()})"
      ]
    },
    {
      "cell_type": "code",
      "execution_count": 128,
      "metadata": {},
      "outputs": [
        {
          "data": {
            "text/html": [
              "<div>\n",
              "<style scoped>\n",
              "    .dataframe tbody tr th:only-of-type {\n",
              "        vertical-align: middle;\n",
              "    }\n",
              "\n",
              "    .dataframe tbody tr th {\n",
              "        vertical-align: top;\n",
              "    }\n",
              "\n",
              "    .dataframe thead th {\n",
              "        text-align: right;\n",
              "    }\n",
              "</style>\n",
              "<table border=\"1\" class=\"dataframe\">\n",
              "  <thead>\n",
              "    <tr style=\"text-align: right;\">\n",
              "      <th></th>\n",
              "      <th>TOP_N_RECOMMENDATIONS</th>\n",
              "    </tr>\n",
              "  </thead>\n",
              "  <tbody>\n",
              "    <tr>\n",
              "      <th>0</th>\n",
              "      <td>The Complete Maus (Maus, #1-2)</td>\n",
              "    </tr>\n",
              "    <tr>\n",
              "      <th>1</th>\n",
              "      <td>The Hate U Give</td>\n",
              "    </tr>\n",
              "    <tr>\n",
              "      <th>2</th>\n",
              "      <td>There's Treasure Everywhere: A Calvin and Hobb...</td>\n",
              "    </tr>\n",
              "    <tr>\n",
              "      <th>3</th>\n",
              "      <td>The Indispensable Calvin and Hobbes</td>\n",
              "    </tr>\n",
              "    <tr>\n",
              "      <th>4</th>\n",
              "      <td>All Things Wise and Wonderful</td>\n",
              "    </tr>\n",
              "    <tr>\n",
              "      <th>5</th>\n",
              "      <td>Words of Radiance (The Stormlight Archive, #2)</td>\n",
              "    </tr>\n",
              "    <tr>\n",
              "      <th>6</th>\n",
              "      <td>Just Mercy: A Story of Justice and Redemption</td>\n",
              "    </tr>\n",
              "    <tr>\n",
              "      <th>7</th>\n",
              "      <td>Unnatural Death (Lord Peter Wimsey, #3)</td>\n",
              "    </tr>\n",
              "    <tr>\n",
              "      <th>8</th>\n",
              "      <td>Fair Game (Alpha &amp; Omega, #3)</td>\n",
              "    </tr>\n",
              "    <tr>\n",
              "      <th>9</th>\n",
              "      <td>The Obelisk Gate (The Broken Earth, #2)</td>\n",
              "    </tr>\n",
              "  </tbody>\n",
              "</table>\n",
              "</div>"
            ],
            "text/plain": [
              "                               TOP_N_RECOMMENDATIONS\n",
              "0                     The Complete Maus (Maus, #1-2)\n",
              "1                                    The Hate U Give\n",
              "2  There's Treasure Everywhere: A Calvin and Hobb...\n",
              "3                The Indispensable Calvin and Hobbes\n",
              "4                      All Things Wise and Wonderful\n",
              "5     Words of Radiance (The Stormlight Archive, #2)\n",
              "6      Just Mercy: A Story of Justice and Redemption\n",
              "7            Unnatural Death (Lord Peter Wimsey, #3)\n",
              "8                      Fair Game (Alpha & Omega, #3)\n",
              "9            The Obelisk Gate (The Broken Earth, #2)"
            ]
          },
          "execution_count": 128,
          "metadata": {},
          "output_type": "execute_result"
        }
      ],
      "source": [
        "RECOMMEND_N_TOP(0, 10)"
      ]
    }
  ],
  "metadata": {
    "accelerator": "GPU",
    "colab": {
      "gpuType": "T4",
      "provenance": []
    },
    "gpuClass": "standard",
    "kernelspec": {
      "display_name": "Python 3",
      "language": "python",
      "name": "python3"
    },
    "language_info": {
      "codemirror_mode": {
        "name": "ipython",
        "version": 3
      },
      "file_extension": ".py",
      "mimetype": "text/x-python",
      "name": "python",
      "nbconvert_exporter": "python",
      "pygments_lexer": "ipython3",
      "version": "3.11.3"
    },
    "orig_nbformat": 4
  },
  "nbformat": 4,
  "nbformat_minor": 0
}
